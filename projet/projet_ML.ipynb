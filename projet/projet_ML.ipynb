{
 "cells": [
  {
   "cell_type": "code",
   "execution_count": null,
   "metadata": {},
   "outputs": [],
   "source": [
    "import numpy as np\n",
    "\n",
    "\n",
    "class Loss(object):\n",
    "    def forward(self, y, yhat):\n",
    "        pass\n",
    "\n",
    "    def backward(self, y, yhat):\n",
    "        pass\n",
    "\n",
    "\n",
    "class MSE_Loss(Loss):\n",
    "    def forward(self, y, yhat):\n",
    "        return (np.sum((y-yhat)**2))/len(y)    # obligé de laisser len(y) diviser par 1/2\n",
    "    \n",
    "\n",
    "\n",
    "\n",
    "class Module(object):\n",
    "    def __init__(self):\n",
    "        self._parameters = None\n",
    "        self.b = None\n",
    "        self._gradient = None\n",
    "\n",
    "    def zero_grad(self):\n",
    "        self._gradient = 0 \n",
    "        ## reinitialise gradient\n",
    "\n",
    "    def forward(self, X):\n",
    "        ## Calcule la passe forward\n",
    "        pass\n",
    "\n",
    "    def update_parameters(self, gradient_step=1e-3):\n",
    "        ## Calcule la mise a jour des parametres selon le gradient calcule et le pas de gradient_step\n",
    "        self._parameters -= gradient_step*self._gradient\n",
    "\n",
    "    def backward_update_gradient(self, input, delta):\n",
    "        ## Met a jour la valeur du gradient\n",
    "        pass\n",
    "\n",
    "    def backward_delta(self, input, delta):\n",
    "        ## Calcul la derivee de l'erreur\n",
    "        pass\n",
    "\n",
    "class Module_Lineaire(Module):\n",
    "    def forward(self, X):\n",
    "    ## Calcule la passe forward\n",
    "        return X@(self._parameters).T + self.b\n",
    "    \n",
    "    def update_parameters(self, gradient_step=1e-3):\n",
    "        ## Calcule la mise a jour des parametres selon le gradient calcule et le pas de gradient_step\n",
    "        self._parameters -= gradient_step*self._gradient\n",
    "\n",
    "\n",
    "    def backward_update_gradient(self, input, delta):\n",
    "        ## Met a jour la valeur du gradient\n",
    "        delta.T@input\n",
    "        delta.T@np.ones((input.shape[0],1))\n",
    "    \n",
    "    def backward_delta(self, input, delta):\n",
    "    ## Calcul la derivee de l'erreur\n",
    "    pass\n",
    "\n"
   ]
  },
  {
   "cell_type": "code",
   "execution_count": 8,
   "metadata": {},
   "outputs": [
    {
     "name": "stdout",
     "output_type": "stream",
     "text": [
      "(20, 4)\n"
     ]
    }
   ],
   "source": [
    "import numpy as np\n",
    "batch = 4\n",
    "d=20\n",
    "W =np.ones((20,20))\n",
    "X= np.ones((20,4))\n",
    "print((W@X).shape)\n"
   ]
  },
  {
   "cell_type": "code",
   "execution_count": null,
   "metadata": {},
   "outputs": [],
   "source": []
  }
 ],
 "metadata": {
  "kernelspec": {
   "display_name": "Python 3 (ipykernel)",
   "language": "python",
   "name": "python3"
  },
  "language_info": {
   "codemirror_mode": {
    "name": "ipython",
    "version": 3
   },
   "file_extension": ".py",
   "mimetype": "text/x-python",
   "name": "python",
   "nbconvert_exporter": "python",
   "pygments_lexer": "ipython3",
   "version": "3.10.6"
  }
 },
 "nbformat": 4,
 "nbformat_minor": 2
}
